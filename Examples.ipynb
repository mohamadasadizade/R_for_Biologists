{
  "nbformat": 4,
  "nbformat_minor": 0,
  "metadata": {
    "colab": {
      "provenance": []
    },
    "kernelspec": {
      "name": "python3",
      "display_name": "Python 3"
    },
    "language_info": {
      "name": "python"
    }
  },
  "cells": [
    {
      "cell_type": "markdown",
      "metadata": {
        "id": "IR7rOaf_8CWV"
      },
      "source": [
        "## **Example 1: Counting Mutations Between Two DNA Sequences**\n",
        "\n",
        "**Concepts Used:**  \n",
        "Loops and `if/else`.\n",
        "\n",
        "**Problem Statement:**  \n",
        "Compare two DNA sequences of the same length and count the number of mismatches (mutations) between them.\n",
        "\n",
        "**Hints**\n",
        "- How will you ensure the two sequences have the same length before comparing them?\n",
        "- How can you loop through each character position in the sequences?\n",
        "- What condition will you check to identify a mismatch between the characters?\n",
        "- substr() to extract a specific character by its position.\n",
        "- nchar() to check the sequence length.\n",
        "\n"
      ]
    },
    {
      "cell_type": "code",
      "execution_count": null,
      "metadata": {
        "id": "dVzOPyyt9bVF",
        "colab": {
          "base_uri": "https://localhost:8080/"
        },
        "outputId": "d230148d-351e-4c73-9c16-ad34dc32ddde"
      },
      "outputs": [
        {
          "output_type": "stream",
          "name": "stdout",
          "text": [
            "[1] 1\n"
          ]
        }
      ],
      "source": [
        "count_mutations <- function(seq1, seq2) {\n",
        "  if (nchar(seq1) != nchar(seq2)) {\n",
        "    return(\"Sequences must be of the same length\")\n",
        "  } else\n",
        "  {\n",
        "  mutations <- 0\n",
        "  for (i in 1:nchar(seq1)) {\n",
        "    if (substr(seq1, i, i) != substr(seq2, i, i)) {\n",
        "      mutations <- mutations + 1\n",
        "    }\n",
        "  }\n",
        "\n",
        "  return(mutations)\n",
        "  }\n",
        "\n",
        "}\n",
        "\n",
        "seq1 <- \"ATGCGTAC\"\n",
        "seq2 <- \"ATGCTTAC\"\n",
        "print(count_mutations(seq1, seq2))\n"
      ]
    },
    {
      "cell_type": "markdown",
      "metadata": {
        "id": "PlwLzBjU9pfE"
      },
      "source": [
        "## **Example 2:  Computing GC Content Percentage**\n",
        "\n",
        "**Concepts Used:**  \n",
        "Math, functions.\n",
        "\n",
        "**Problem Statement:**  \n",
        "Calculate the GC content (percentage of G and C bases) in a DNA sequence.\n",
        "\n",
        "\n",
        "**Hints**\n",
        "\n",
        "You can employ a loop-based method using `nchar()` and `substr()`, **or** utilize functions such as `strsplit()` or `gsub`.\n",
        "\n",
        "\n",
        "\n"
      ]
    },
    {
      "cell_type": "markdown",
      "metadata": {
        "id": "D1bfwMs910w_"
      },
      "source": [
        "### **loop-based** aproach"
      ]
    },
    {
      "cell_type": "code",
      "execution_count": null,
      "metadata": {
        "id": "4HxdQ4YMzWsF",
        "colab": {
          "base_uri": "https://localhost:8080/"
        },
        "outputId": "a87705e8-4677-4b75-b79d-1b518a24c7c1"
      },
      "outputs": [
        {
          "output_type": "stream",
          "name": "stdout",
          "text": [
            "[1] 50\n"
          ]
        }
      ],
      "source": [
        "gc_content <- function(sequence) {\n",
        "  gc_count <- 0\n",
        "  seq_length <- nchar(sequence)\n",
        "\n",
        "  for (i in 1:seq_length) {\n",
        "    base <- substr(sequence, i, i)  # Extract each base\n",
        "    if (base == \"G\" | base == \"C\") {\n",
        "      gc_count <- gc_count + 1\n",
        "    }\n",
        "  }\n",
        "\n",
        "  gc_percentage <- (gc_count / seq_length) * 100\n",
        "  return(gc_percentage)\n",
        "}\n",
        "\n",
        "sequence <- \"ATGCGATCGGAT\"\n",
        "print(gc_content(sequence))"
      ]
    },
    {
      "cell_type": "markdown",
      "metadata": {
        "id": "zTATfj1B1sh8"
      },
      "source": [
        "### Using **gsub**\n",
        "\n",
        "\n",
        "\n",
        "```\n",
        "gsub(pattern, replacement, x)\n",
        "```\n",
        "\n",
        "\n",
        "\n",
        "```pattern ``` The pattern you want to search for (can be a regular expression).\n",
        "\n",
        "\n",
        "\n",
        "``` replacement ``` The string to replace the matched pattern.\n",
        "\n",
        "``` x ``` The text the replacement is applied.\n",
        "\n",
        "\n",
        "\n",
        "\n",
        "\n",
        "\n"
      ]
    },
    {
      "cell_type": "code",
      "execution_count": null,
      "metadata": {
        "id": "QeTHXQhD157M",
        "colab": {
          "base_uri": "https://localhost:8080/"
        },
        "outputId": "5a8dda30-534a-4782-dc02-9777ac86686c"
      },
      "outputs": [
        {
          "output_type": "stream",
          "name": "stdout",
          "text": [
            "[1] \"ATGCGXATCXGGAT\"\n"
          ]
        }
      ],
      "source": [
        "#Replace All Matches\n",
        "\n",
        "string <- \"ATGCG-ATC-GGAT\"\n",
        "result <- gsub(\"-\", \"X\", string)\n",
        "print(result)"
      ]
    },
    {
      "cell_type": "code",
      "execution_count": null,
      "metadata": {
        "id": "guEYXgjl3De_",
        "colab": {
          "base_uri": "https://localhost:8080/"
        },
        "outputId": "3eb8e399-7f27-42d5-edec-0fe06d1e0bc4"
      },
      "outputs": [
        {
          "output_type": "stream",
          "name": "stdout",
          "text": [
            "[1] \"ATGCGATC\"\n"
          ]
        }
      ],
      "source": [
        "#Remove Characters\n",
        "\n",
        "sequence <- \"ATG5CG*A$T12C\"\n",
        "cleaned_sequence <- gsub(\"[^ATGC]\", \"\", sequence)\n",
        "print(cleaned_sequence)"
      ]
    },
    {
      "cell_type": "code",
      "execution_count": null,
      "metadata": {
        "id": "CFdoQ1zl32X7",
        "colab": {
          "base_uri": "https://localhost:8080/"
        },
        "outputId": "ddd3517d-e6ac-4227-9fbb-7a66926719bd"
      },
      "outputs": [
        {
          "output_type": "stream",
          "name": "stdout",
          "text": [
            "[1] \"RNA is composed of nucleic acids\"\n"
          ]
        }
      ],
      "source": [
        "#Replace Entire Words\n",
        "\n",
        "string <- \"DNA is composed of nucleic acids\"\n",
        "result <- gsub(\"\\\\bDNA\\\\b\", \"RNA\", string)  # \\\\b marks the word\n",
        "print(result)"
      ]
    },
    {
      "cell_type": "code",
      "execution_count": null,
      "metadata": {
        "id": "Xv8Fsy0u94dH",
        "colab": {
          "base_uri": "https://localhost:8080/"
        },
        "outputId": "8b7298fc-703e-4161-a850-601621e0d799"
      },
      "outputs": [
        {
          "output_type": "stream",
          "name": "stdout",
          "text": [
            "[1] 50\n"
          ]
        }
      ],
      "source": [
        "gc_content <- function(sequence) {\n",
        "  gc_count <- nchar(gsub(\"[^GC]\", \"\", sequence))\n",
        "  # or use gsub(\"[AT]\", \"\", sequence)\n",
        "  seq_length <- nchar(sequence)\n",
        "\n",
        "  gc_percentage <- (gc_count / seq_length) * 100\n",
        "  return(gc_percentage)\n",
        "}\n",
        "\n",
        "\n",
        "sequence <- \"ATGCGATCGGAT\"\n",
        "print(gc_content(sequence))\n"
      ]
    },
    {
      "cell_type": "markdown",
      "metadata": {
        "id": "gOCciioe60Lf"
      },
      "source": [
        "## **Example 3: Calculating DNA Melting Temperature**\n",
        "\n",
        "**Concepts Used:**  \n",
        "Math, `if/else`, and functions.\n",
        "\n",
        "**Problem Statement:**  \n",
        "Calculate the melting temperature (\\(T_m\\)) of a DNA sequence using the following formula:\n",
        "\n",
        "- If the DNA sequence length is less than or equal to 14, use the formula:\n",
        "$$T_m = 2 \\times (\\text{number of A/T}) + 4 \\times (\\text{number of G/C})$$\n",
        "\n",
        "\n",
        "- Otherwise, use:\n",
        "$$T_m = 64.9 + 41 \\times \\frac{(\\text{number of G/C} - 16.4)}{\\text{length of sequence}}$$\n",
        "\n",
        "\n"
      ]
    },
    {
      "cell_type": "code",
      "execution_count": null,
      "metadata": {
        "id": "UzgyMOuQ9CDi",
        "colab": {
          "base_uri": "https://localhost:8080/"
        },
        "outputId": "464811cc-8570-41d8-a40e-ba00305a5a34"
      },
      "outputs": [
        {
          "output_type": "stream",
          "name": "stdout",
          "text": [
            "[1] 36\n"
          ]
        }
      ],
      "source": [
        "calculate_tm <- function(sequence) {\n",
        "  at_count <- nchar(gsub(\"[^AT]\", \"\", sequence))\n",
        "  gc_count <- nchar(gsub(\"[^GC]\", \"\", sequence))\n",
        "  seq_length <- nchar(sequence)\n",
        "\n",
        "  if (seq_length <= 14) {\n",
        "    tm <- 2 * at_count + 4 * gc_count\n",
        "  } else {\n",
        "    tm <- 64.9 + 41 * (gc_count - 16.4) / seq_length\n",
        "  }\n",
        "\n",
        "  return(tm)\n",
        "}\n",
        "\n",
        "\n",
        "sequence <- \"ATGCGATCGGAT\"\n",
        "print(calculate_tm(sequence))\n"
      ]
    }
  ]
}